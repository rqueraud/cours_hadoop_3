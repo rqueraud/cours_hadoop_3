{
 "cells": [
  {
   "cell_type": "markdown",
   "metadata": {},
   "source": [
    "# Exemples\n",
    "\n",
    "Quelques rappels de python"
   ]
  },
  {
   "cell_type": "code",
   "execution_count": 1,
   "metadata": {},
   "outputs": [],
   "source": [
    "# Exemple 1 : Le type int et l'affectation de variables\n",
    "\n",
    "a = 1\n",
    "b = 2\n",
    "c = a + b\n",
    "\n",
    "c"
   ]
  },
  {
   "cell_type": "code",
   "execution_count": 2,
   "metadata": {},
   "outputs": [],
   "source": [
    "# Exemple 2 : Le type string\n",
    "\n",
    "a = \"1\"\n",
    "b = \"2\"\n",
    "c = a + b\n",
    "\n",
    "c"
   ]
  },
  {
   "cell_type": "code",
   "execution_count": null,
   "metadata": {},
   "outputs": [],
   "source": [
    "# Exemple 3 : Récuperer une valeur dans une liste\n",
    "\n",
    "a = [\"Janvier\", \"Février\", \"Mars\", \"Avril\", \"Mai\", \"Juin\", \"Juillet\", \"Août\", \"Septembre\", \"Octobre\", \"Novembre\", \"Décembre\"]\n",
    "\n",
    "a[2]"
   ]
  },
  {
   "cell_type": "code",
   "execution_count": null,
   "metadata": {},
   "outputs": [],
   "source": [
    "# Exemple 4 : Récupérer une valeur dans une string\n",
    "\n",
    "a = \"Janvier\"\n",
    "\n",
    "print(len(a))\n",
    "print(a[2])"
   ]
  },
  {
   "cell_type": "code",
   "execution_count": null,
   "metadata": {},
   "outputs": [],
   "source": [
    "# Exemple 5 : Division et modulo\n",
    "\n",
    "a = 11\n",
    "\n",
    "print(a / 2.0)\n",
    "print(a / 2)\n",
    "print(a % 2)"
   ]
  },
  {
   "cell_type": "code",
   "execution_count": null,
   "metadata": {},
   "outputs": [],
   "source": [
    "# Exemple 6 : La boucle for et itération dans une liste\n",
    "\n",
    "a = [\"Janvier\", \"Février\", \"Mars\", \"Avril\", \"Mai\", \"Juin\", \"Juillet\", \"Août\", \"Septembre\", \"Octobre\", \"Novembre\", \"Décembre\"]\n",
    "\n",
    "for i in range(len(a)):\n",
    "    print(a[i])"
   ]
  },
  {
   "cell_type": "code",
   "execution_count": null,
   "metadata": {},
   "outputs": [],
   "source": [
    "# Exemple 7\n",
    "\n",
    "a = [\"Janvier\", \"Février\", \"Mars\", \"Avril\", \"Mai\", \"Juin\", \"Juillet\", \"Août\", \"Septembre\", \"Octobre\", \"Novembre\", \"Décembre\"]\n",
    "\n",
    "for i in range(len(a[1])):\n",
    "    print(a[1][i])"
   ]
  },
  {
   "cell_type": "code",
   "execution_count": 4,
   "metadata": {},
   "outputs": [],
   "source": [
    "# Exemple 8 : Fonctions\n",
    "\n",
    "def carre(liste):\n",
    "    for i in range(len(liste)):\n",
    "        a = liste[i]\n",
    "        liste[i] = a*a\n",
    "    return liste\n",
    "\n",
    "carre([1, 2, 3])"
   ]
  },
  {
   "cell_type": "code",
   "execution_count": 5,
   "metadata": {},
   "outputs": [],
   "source": [
    "# Exemple 9 : Importer une librairie\n",
    "\n",
    "import math\n",
    "\n",
    "def cube(valeur):\n",
    "    return math.pow(valeur, 3)\n",
    "\n",
    "cube(5)"
   ]
  },
  {
   "cell_type": "code",
   "execution_count": 11,
   "metadata": {},
   "outputs": [],
   "source": [
    "# Exemple 10 : Les conditions\n",
    "\n",
    "import random\n",
    "\n",
    "cible = random.randint(1, 100)\n",
    "\n",
    "def plus_ou_moins(proposition):\n",
    "    if proposition < cible:\n",
    "        print(\"Plus\")\n",
    "    elif proposition > cible:\n",
    "        print(\"Moins\")\n",
    "    else:\n",
    "        print(\"Trouvé\")\n",
    "\n",
    "plus_ou_moins(50)"
   ]
  },
  {
   "cell_type": "code",
   "execution_count": 14,
   "metadata": {},
   "outputs": [],
   "source": [
    "# Exemple 11 : Erreurs\n",
    "\n",
    "a = [1, 2, 3]\n",
    "\n",
    "print(a + 4)"
   ]
  },
  {
   "cell_type": "code",
   "execution_count": 18,
   "metadata": {},
   "outputs": [],
   "source": [
    "# Exemple 12 : Ajouter un élément dans une liste\n",
    "\n",
    "a = [1, 2, 3]\n",
    "\n",
    "print(a + [4])\n",
    "print(a)\n",
    "\n",
    "a.append(4)\n",
    "print(a)"
   ]
  },
  {
   "cell_type": "markdown",
   "metadata": {},
   "source": [
    "# Questions\n",
    "\n",
    "Dans toutes les questions suivantes, remplacez `None` par ce qui est demandé en commentaire"
   ]
  },
  {
   "cell_type": "code",
   "execution_count": null,
   "metadata": {},
   "outputs": [],
   "source": [
    "x = 5\n",
    "y = None  # x + 5\n",
    "print(y)  # Doit afficher 10\n",
    "assert y == 10"
   ]
  },
  {
   "cell_type": "code",
   "execution_count": null,
   "metadata": {},
   "outputs": [],
   "source": [
    "liste = [18, 64, 52]\n",
    "a = None  # Longueur de la liste\n",
    "print(a)  # Doit afficher 3\n",
    "assert a == 3"
   ]
  },
  {
   "cell_type": "code",
   "execution_count": null,
   "metadata": {},
   "outputs": [],
   "source": [
    "liste = [18, 64, 52]\n",
    "b = None  # Valeur du deuxième élément\n",
    "print(b)  # Doit afficher 64\n",
    "assert b == 64"
   ]
  },
  {
   "cell_type": "code",
   "execution_count": null,
   "metadata": {},
   "outputs": [],
   "source": [
    "nombre = 11\n",
    "c = None  # Reste de la division entière de nombre par 2\n",
    "print(c)  # Doit afficher 1\n",
    "assert c = 11"
   ]
  },
  {
   "cell_type": "code",
   "execution_count": null,
   "metadata": {},
   "outputs": [],
   "source": [
    "liste = [18, 64, 52]\n",
    "None  # Ajouter la valeur 11 à la liste\n",
    "print(liste)  # Doit afficher [18, 64, 52, 11]\n",
    "assert liste == [18, 64, 52, 11]"
   ]
  },
  {
   "cell_type": "markdown",
   "metadata": {},
   "source": [
    "# Problèmes"
   ]
  },
  {
   "cell_type": "markdown",
   "metadata": {},
   "source": [
    "## Problème 0.1\n",
    "\n",
    "Ecrivez une fonction `plus2` prenant en entrée un entier `a` et qui retourne l'entier `a` augmenté de 2.  \n",
    "Exemple: `plus2(4)` retourne `6`."
   ]
  },
  {
   "cell_type": "code",
   "execution_count": 1,
   "metadata": {},
   "outputs": [],
   "source": [
    "##### Insérer le code ici #####\n",
    "\n",
    "###############################"
   ]
  },
  {
   "cell_type": "code",
   "execution_count": 2,
   "metadata": {},
   "outputs": [],
   "source": [
    "assert plus2(4) == 6, \"Résultat incorrect\""
   ]
  },
  {
   "cell_type": "markdown",
   "metadata": {},
   "source": [
    "## Problème 0.2\n",
    "\n",
    "Ecrivez une fonction `le_deuxieme_devient_0` qui prend en entrée une liste `liste` que l'on suppose contenir au moins 2 éléments et qui retourne cette même liste en ayant transformé le deuxième élément en 0.  \n",
    "Exemple: `le_deuxieme_devient_0([1, 2])` retourne `[1, 0]`.  \n",
    "Exemple: `le_deuxieme_devient_0([3, 4, 5])` retourne `[3, 0, 5]`."
   ]
  },
  {
   "cell_type": "code",
   "execution_count": 40,
   "metadata": {},
   "outputs": [],
   "source": [
    "##### Insérer le code ici #####\n",
    "\n",
    "###############################"
   ]
  },
  {
   "cell_type": "code",
   "execution_count": 41,
   "metadata": {},
   "outputs": [],
   "source": [
    "assert le_deuxieme_devient_0([1, 2]) == [1, 0]\n",
    "assert le_deuxieme_devient_0([3, 4, 5]) == [3, 0, 5]"
   ]
  },
  {
   "cell_type": "markdown",
   "metadata": {},
   "source": [
    "## Problème 0.3\n",
    "\n",
    "Ecrivez une fonction `encore10` qui prend en entrée un entier `a` et qui retourne la liste des 10 entiers successifs strictement supérieurs à `a`.  \n",
    "Indice: Regardez bien le fonctionnement de la fonction `range` https://www.w3schools.com/python/ref_func_range.asp.  \n",
    "Exemple: `encore10(5)` retourne `[6, 7, 8, 9, 10, 11, 12, 13, 14, 15]`."
   ]
  },
  {
   "cell_type": "code",
   "execution_count": 34,
   "metadata": {},
   "outputs": [],
   "source": [
    "##### Insérer le code ici #####\n",
    "\n",
    "###############################"
   ]
  },
  {
   "cell_type": "code",
   "execution_count": 35,
   "metadata": {},
   "outputs": [],
   "source": [
    "assert encore10(5) == [6, 7, 8, 9, 10, 11, 12, 13, 14, 15] or encore10(5) == range(6, 16), \"Résultat incorrect\""
   ]
  },
  {
   "cell_type": "markdown",
   "metadata": {},
   "source": [
    "## Problème 0.4\n",
    "\n",
    "Ecrivez une fonction `colle_entiers` prenant en entrée deux entiers `a` et `b` et qui retourne une chaîne de caractères composé des deux nombres collés.  \n",
    "Indice: La fonction `str` prend en entrée un entier et retourne une string, par exemple `str(3)` retourne `\"3\"`.  \n",
    "Exemple: `colle_entiers(12, 34)` retourne `\"1234\"`"
   ]
  },
  {
   "cell_type": "code",
   "execution_count": 8,
   "metadata": {},
   "outputs": [],
   "source": [
    "##### Insérer le code ici #####\n",
    "\n",
    "###############################"
   ]
  },
  {
   "cell_type": "code",
   "execution_count": 10,
   "metadata": {},
   "outputs": [],
   "source": [
    "assert(colle_entiers(12, 34) == \"1234\"), \"Résultat incorrect\""
   ]
  },
  {
   "cell_type": "markdown",
   "metadata": {},
   "source": [
    "## Problème 0.5\n",
    "\n",
    "Ecrivez une fonction `somme` prenant en entrée une liste `liste` et qui retourne un flottant correspondant à la somme de la liste.  \n",
    "Indication: N'utilisez pas la fonction `sum` de python!  \n",
    "Exemple: `somme([2, 4])` retourne 6."
   ]
  },
  {
   "cell_type": "code",
   "execution_count": 18,
   "metadata": {},
   "outputs": [],
   "source": [
    "##### Insérer le code ici #####\n",
    "def somme(liste):\n",
    "    a = 0\n",
    "    for i in liste:\n",
    "        a += i\n",
    "    return a\n",
    "###############################"
   ]
  },
  {
   "cell_type": "code",
   "execution_count": 19,
   "metadata": {},
   "outputs": [],
   "source": [
    "assert(somme([2, 4])) == 6"
   ]
  },
  {
   "cell_type": "markdown",
   "metadata": {},
   "source": [
    "## Problème 0.6\n",
    "\n",
    "Ecrivez une fonction `plus2liste` qui prend en entrée une liste `liste` et qui retourne la liste avec tous les éléments augmentés de 2.  \n",
    "Exemple: `plus2liste([1, 2, 3])` retourne `[3, 4, 5]`."
   ]
  },
  {
   "cell_type": "code",
   "execution_count": 38,
   "metadata": {},
   "outputs": [],
   "source": [
    "def plus2liste(liste):\n",
    "    for i in range(len(liste)):\n",
    "        liste[i] = liste[i] + 2\n",
    "    return liste\n",
    "##### Insérer le code ici #####\n",
    "\n",
    "###############################"
   ]
  },
  {
   "cell_type": "code",
   "execution_count": 37,
   "metadata": {},
   "outputs": [],
   "source": [
    "assert plus2liste([1, 2, 3]) == [3, 4, 5], \"Résultat incorrect\""
   ]
  },
  {
   "cell_type": "markdown",
   "metadata": {},
   "source": [
    "## Problème 1\n",
    "\n",
    "Ecrivez une fonction `moyenne` prenant en entrée une liste `liste` et qui retourne un flottant correspond à la moyenne de la liste.  \n",
    "Exemple: `moyenne([2, 4])` retourne `3.0`."
   ]
  },
  {
   "cell_type": "code",
   "execution_count": null,
   "metadata": {},
   "outputs": [],
   "source": [
    "##### Insérer le code ici #####\n",
    "\n",
    "###############################"
   ]
  },
  {
   "cell_type": "code",
   "execution_count": 33,
   "metadata": {},
   "outputs": [],
   "source": [
    "assert moyenne([2, 3, 5, 7, 11, 13, 17, 19, 23, 29]) == 12.9, \"Résultat incorrect\""
   ]
  },
  {
   "cell_type": "markdown",
   "metadata": {},
   "source": [
    "## Problème 2\n",
    "\n",
    "Ecrire une fonction `lettres` prenant en entrée une chaîne de caractères `mot` et un booléen `pair` et qui retourne un chaîne de caractères composée uniquement des lettres paires/impaires du mot en fonction de la valeur de `pair`.  \n",
    "Exemple: `pair(\"abracadabra\", True)` retourne `\"arcdba\"`."
   ]
  },
  {
   "cell_type": "code",
   "execution_count": null,
   "metadata": {},
   "outputs": [],
   "source": [
    "##### Insérer le code ici #####\n",
    "\n",
    "###############################"
   ]
  },
  {
   "cell_type": "code",
   "execution_count": 34,
   "metadata": {},
   "outputs": [],
   "source": [
    "assert (pair(\"abracadabra\", True) == 'arcdba' and pair(\"abracadabra\", False) == 'baaar'), \"Résultat incorrect\""
   ]
  },
  {
   "cell_type": "markdown",
   "metadata": {},
   "source": [
    "## Problème 3\n",
    "\n",
    "Ecrivez une fonction `premiers` prenant en entrée un entier `n` qui retourne la liste des nombres premiers inférieurs strictement à `n`.  \n",
    "Exemple: `premier(10)` retourne `[2, 3, 5, 7]`."
   ]
  },
  {
   "cell_type": "code",
   "execution_count": null,
   "metadata": {},
   "outputs": [],
   "source": [
    "##### Insérer le code ici #####\n",
    "\n",
    "###############################"
   ]
  },
  {
   "cell_type": "code",
   "execution_count": 35,
   "metadata": {},
   "outputs": [],
   "source": [
    "assert premiers(100) == [2, 3, 5, 7, 11, 13, 17, 19, 23, 29, 31, 37, 41, 43, 47, 53, 59, 61, 67, 71, 73, 79, 83, 89, 97], \"Résultat incorrect\""
   ]
  },
  {
   "cell_type": "markdown",
   "metadata": {},
   "source": [
    "## Problème 4\n",
    "\n",
    "Ecrivez une fonction `fibo` prenant un entier `n` et qui retourne la liste des `n` premiers termes de la suite de Fibonacci.\n",
    "La suite de Fibonacci est une suite d'entiers dans laquelle chaque terme est la somme des deux termes qui le précèdent. Elle commence par les termes 0 et 1.  \n",
    "Exemple: `fibo(10)` retourne `[0, 1, 1, 2, 3, 5, 8, 13, 21, 34]`"
   ]
  },
  {
   "cell_type": "code",
   "execution_count": null,
   "metadata": {},
   "outputs": [],
   "source": [
    "##### Insérer le code ici #####\n",
    "\n",
    "###############################"
   ]
  },
  {
   "cell_type": "code",
   "execution_count": 36,
   "metadata": {},
   "outputs": [],
   "source": [
    "assert fibo(15) == [0, 1, 1, 2, 3, 5, 8, 13, 21, 34, 55, 89, 144, 233, 377], \"Résultat incorrect\""
   ]
  },
  {
   "cell_type": "markdown",
   "metadata": {},
   "source": [
    "## Problème 5\n",
    "\n",
    "Ecrire une fonction `schema` prenant en paramètre un entier `n` et permettant d'afficher le résultat suivant pour, par exemple, `schema(5)`:\n",
    "```python\n",
    "1 \n",
    "2 2 \n",
    "3 3 3 \n",
    "4 4 4 4 \n",
    "5 5 5 5 5\n",
    "```"
   ]
  },
  {
   "cell_type": "code",
   "execution_count": null,
   "metadata": {},
   "outputs": [],
   "source": [
    "##### Insérer le code ici #####\n",
    "\n",
    "###############################"
   ]
  },
  {
   "cell_type": "code",
   "execution_count": 41,
   "metadata": {},
   "outputs": [],
   "source": [
    "schema(5)"
   ]
  },
  {
   "cell_type": "code",
   "execution_count": null,
   "metadata": {},
   "outputs": [],
   "source": []
  }
 ],
 "metadata": {
  "file_extension": ".py",
  "kernelspec": {
   "display_name": "Python 3",
   "language": "python",
   "name": "python3"
  },
  "language_info": {
   "codemirror_mode": {
    "name": "ipython",
    "version": 3
   },
   "file_extension": ".py",
   "mimetype": "text/x-python",
   "name": "python",
   "nbconvert_exporter": "python",
   "pygments_lexer": "ipython3",
   "version": "3.6.8"
  },
  "mimetype": "text/x-python",
  "name": "python",
  "npconvert_exporter": "python",
  "pygments_lexer": "ipython3",
  "version": 3
 },
 "nbformat": 4,
 "nbformat_minor": 2
}